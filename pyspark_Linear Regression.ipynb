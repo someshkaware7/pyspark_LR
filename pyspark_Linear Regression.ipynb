{
  "nbformat": 4,
  "nbformat_minor": 0,
  "metadata": {
    "colab": {
      "provenance": []
    },
    "kernelspec": {
      "name": "python3",
      "display_name": "Python 3"
    },
    "language_info": {
      "name": "python"
    }
  },
  "cells": [
    {
      "cell_type": "code",
      "execution_count": 1,
      "metadata": {
        "colab": {
          "base_uri": "https://localhost:8080/"
        },
        "id": "Y7zRtJJ03pYt",
        "outputId": "e7cfdb3a-74f2-404b-bbe2-fd5313551bff"
      },
      "outputs": [
        {
          "output_type": "stream",
          "name": "stdout",
          "text": [
            "Looking in indexes: https://pypi.org/simple, https://us-python.pkg.dev/colab-wheels/public/simple/\n",
            "Collecting pyspark\n",
            "  Downloading pyspark-3.3.2.tar.gz (281.4 MB)\n",
            "\u001b[2K     \u001b[90m━━━━━━━━━━━━━━━━━━━━━━━━━━━━━━━━━━━━━━━\u001b[0m \u001b[32m281.4/281.4 MB\u001b[0m \u001b[31m3.4 MB/s\u001b[0m eta \u001b[36m0:00:00\u001b[0m\n",
            "\u001b[?25h  Preparing metadata (setup.py) ... \u001b[?25l\u001b[?25hdone\n",
            "Collecting py4j==0.10.9.5\n",
            "  Downloading py4j-0.10.9.5-py2.py3-none-any.whl (199 kB)\n",
            "\u001b[2K     \u001b[90m━━━━━━━━━━━━━━━━━━━━━━━━━━━━━━━━━━━━━━━\u001b[0m \u001b[32m199.7/199.7 KB\u001b[0m \u001b[31m9.8 MB/s\u001b[0m eta \u001b[36m0:00:00\u001b[0m\n",
            "\u001b[?25hBuilding wheels for collected packages: pyspark\n",
            "  Building wheel for pyspark (setup.py) ... \u001b[?25l\u001b[?25hdone\n",
            "  Created wheel for pyspark: filename=pyspark-3.3.2-py2.py3-none-any.whl size=281824025 sha256=e86abe2c28a7c2bd9def12727dc324c28b9257d1ea93547dacc0299f1a1987c4\n",
            "  Stored in directory: /root/.cache/pip/wheels/b1/59/a0/a1a0624b5e865fd389919c1a10f53aec9b12195d6747710baf\n",
            "Successfully built pyspark\n",
            "Installing collected packages: py4j, pyspark\n",
            "Successfully installed py4j-0.10.9.5 pyspark-3.3.2\n"
          ]
        }
      ],
      "source": [
        "pip install pyspark\n"
      ]
    },
    {
      "cell_type": "code",
      "source": [
        "from pyspark.sql import SparkSession"
      ],
      "metadata": {
        "id": "S5I1pUCw430i"
      },
      "execution_count": 2,
      "outputs": []
    },
    {
      "cell_type": "code",
      "source": [
        "spark = SparkSession.builder.master(\"local[1]\").appName(\"ml\").getOrCreate()"
      ],
      "metadata": {
        "id": "WzQsVSm4434f"
      },
      "execution_count": 3,
      "outputs": []
    },
    {
      "cell_type": "code",
      "source": [
        "sc = spark.sparkContext"
      ],
      "metadata": {
        "id": "h8Yb9Xl7436n"
      },
      "execution_count": 4,
      "outputs": []
    },
    {
      "cell_type": "code",
      "source": [
        "df = spark.read.options(header=True,inferSchema=True).csv(\"Social_Network_Ads.csv\")"
      ],
      "metadata": {
        "id": "gXdvd0je4390"
      },
      "execution_count": 5,
      "outputs": []
    },
    {
      "cell_type": "code",
      "source": [
        "df"
      ],
      "metadata": {
        "colab": {
          "base_uri": "https://localhost:8080/"
        },
        "id": "wYt3n9iE44A6",
        "outputId": "f38eb486-4988-4e7d-f3b9-2d914e263c67"
      },
      "execution_count": 6,
      "outputs": [
        {
          "output_type": "execute_result",
          "data": {
            "text/plain": [
              "DataFrame[User ID: int, Gender: string, Age: double, EstimatedSalary: double, Purchased: int]"
            ]
          },
          "metadata": {},
          "execution_count": 6
        }
      ]
    },
    {
      "cell_type": "code",
      "source": [
        "df.count()"
      ],
      "metadata": {
        "colab": {
          "base_uri": "https://localhost:8080/"
        },
        "id": "H-MbzIZk44EY",
        "outputId": "7cd25320-c235-413c-fa37-cb594487aecf"
      },
      "execution_count": 7,
      "outputs": [
        {
          "output_type": "execute_result",
          "data": {
            "text/plain": [
              "400"
            ]
          },
          "metadata": {},
          "execution_count": 7
        }
      ]
    },
    {
      "cell_type": "code",
      "source": [
        "df.summary().show()"
      ],
      "metadata": {
        "colab": {
          "base_uri": "https://localhost:8080/"
        },
        "id": "AMPrcVIf6Lms",
        "outputId": "b4b6c867-5f02-42fc-9005-682209c4c443"
      },
      "execution_count": 8,
      "outputs": [
        {
          "output_type": "stream",
          "name": "stdout",
          "text": [
            "+-------+-----------------+------+------------------+----------------+------------------+\n",
            "|summary|          User ID|Gender|               Age| EstimatedSalary|         Purchased|\n",
            "+-------+-----------------+------+------------------+----------------+------------------+\n",
            "|  count|              400|   400|               400|             400|               400|\n",
            "|   mean|  1.56915397575E7|  null|            37.655|         69742.5|            0.3575|\n",
            "| stddev|71658.32158119006|  null|10.482876597307927|34096.9602824248|0.4798639635968691|\n",
            "|    min|         15566689|Female|              18.0|         15000.0|                 0|\n",
            "|    25%|         15625395|  null|              29.0|         43000.0|                 0|\n",
            "|    50%|         15694288|  null|              37.0|         70000.0|                 0|\n",
            "|    75%|         15750335|  null|              46.0|         88000.0|                 1|\n",
            "|    max|         15815236|  Male|              60.0|        150000.0|                 1|\n",
            "+-------+-----------------+------+------------------+----------------+------------------+\n",
            "\n"
          ]
        }
      ]
    },
    {
      "cell_type": "code",
      "source": [
        "df.describe()"
      ],
      "metadata": {
        "colab": {
          "base_uri": "https://localhost:8080/"
        },
        "id": "6VcTka2r6Lp4",
        "outputId": "05b6533e-19d4-4231-8890-4209b7d039cc"
      },
      "execution_count": 9,
      "outputs": [
        {
          "output_type": "execute_result",
          "data": {
            "text/plain": [
              "DataFrame[summary: string, User ID: string, Gender: string, Age: string, EstimatedSalary: string, Purchased: string]"
            ]
          },
          "metadata": {},
          "execution_count": 9
        }
      ]
    },
    {
      "cell_type": "code",
      "source": [
        "df.groupby('Purchased').count().show()"
      ],
      "metadata": {
        "colab": {
          "base_uri": "https://localhost:8080/"
        },
        "id": "t_Z--b0w6Lsq",
        "outputId": "206a4537-c659-47c3-dce1-31335f6b7b40"
      },
      "execution_count": 14,
      "outputs": [
        {
          "output_type": "stream",
          "name": "stdout",
          "text": [
            "+---------+-----+\n",
            "|Purchased|count|\n",
            "+---------+-----+\n",
            "|        1|  143|\n",
            "|        0|  257|\n",
            "+---------+-----+\n",
            "\n"
          ]
        }
      ]
    },
    {
      "cell_type": "code",
      "source": [
        "df.groupby('Gender').count().show()"
      ],
      "metadata": {
        "colab": {
          "base_uri": "https://localhost:8080/"
        },
        "id": "ZLAk8sHC6LvO",
        "outputId": "c4ffd8d7-c46d-4e91-ed5a-7c4044cf3adb"
      },
      "execution_count": 15,
      "outputs": [
        {
          "output_type": "stream",
          "name": "stdout",
          "text": [
            "+------+-----+\n",
            "|Gender|count|\n",
            "+------+-----+\n",
            "|Female|  204|\n",
            "|  Male|  196|\n",
            "+------+-----+\n",
            "\n"
          ]
        }
      ]
    },
    {
      "cell_type": "code",
      "source": [
        "pdf = df.toPandas()"
      ],
      "metadata": {
        "id": "6LNbkKbj6LzH"
      },
      "execution_count": 16,
      "outputs": []
    },
    {
      "cell_type": "code",
      "source": [
        "pdf.info()"
      ],
      "metadata": {
        "colab": {
          "base_uri": "https://localhost:8080/"
        },
        "id": "U7lhCLui7Mnl",
        "outputId": "13b056f9-a2cd-4aaf-e9b6-f0ea2f395da3"
      },
      "execution_count": 17,
      "outputs": [
        {
          "output_type": "stream",
          "name": "stdout",
          "text": [
            "<class 'pandas.core.frame.DataFrame'>\n",
            "RangeIndex: 400 entries, 0 to 399\n",
            "Data columns (total 5 columns):\n",
            " #   Column           Non-Null Count  Dtype  \n",
            "---  ------           --------------  -----  \n",
            " 0   User ID          400 non-null    int32  \n",
            " 1   Gender           400 non-null    object \n",
            " 2   Age              400 non-null    float64\n",
            " 3   EstimatedSalary  400 non-null    float64\n",
            " 4   Purchased        400 non-null    int32  \n",
            "dtypes: float64(2), int32(2), object(1)\n",
            "memory usage: 12.6+ KB\n"
          ]
        }
      ]
    },
    {
      "cell_type": "code",
      "source": [
        "pdf.isnull().sum()"
      ],
      "metadata": {
        "colab": {
          "base_uri": "https://localhost:8080/"
        },
        "id": "kaUqyste7Mqa",
        "outputId": "a73b9a0e-9dc2-4056-b09b-765b578ee5e7"
      },
      "execution_count": 18,
      "outputs": [
        {
          "output_type": "execute_result",
          "data": {
            "text/plain": [
              "User ID            0\n",
              "Gender             0\n",
              "Age                0\n",
              "EstimatedSalary    0\n",
              "Purchased          0\n",
              "dtype: int64"
            ]
          },
          "metadata": {},
          "execution_count": 18
        }
      ]
    },
    {
      "cell_type": "code",
      "source": [
        "from pyspark.ml.feature import MinMaxScaler,VectorAssembler"
      ],
      "metadata": {
        "id": "6JFWXFlI7MtN"
      },
      "execution_count": 42,
      "outputs": []
    },
    {
      "cell_type": "code",
      "source": [
        "required_features = ['Age','EstimatedSalary']"
      ],
      "metadata": {
        "id": "bpCkS8DS7MwZ"
      },
      "execution_count": 25,
      "outputs": []
    },
    {
      "cell_type": "code",
      "source": [
        "assembler = VectorAssembler(inputCols = required_features, outputCol = 'features')"
      ],
      "metadata": {
        "id": "SYM5Ouha8uvf"
      },
      "execution_count": 27,
      "outputs": []
    },
    {
      "cell_type": "code",
      "source": [
        "transformed_data = assembler.transform(df)"
      ],
      "metadata": {
        "id": "6imns1sB8uyA"
      },
      "execution_count": 28,
      "outputs": []
    },
    {
      "cell_type": "code",
      "source": [
        "transformed_data.show(5)\n"
      ],
      "metadata": {
        "colab": {
          "base_uri": "https://localhost:8080/"
        },
        "id": "WvC1oRiGFz8h",
        "outputId": "dff3c24f-013e-41eb-a851-c37b19d8d691"
      },
      "execution_count": 43,
      "outputs": [
        {
          "output_type": "stream",
          "name": "stdout",
          "text": [
            "+--------+------+----+---------------+---------+--------------+\n",
            "| User ID|Gender| Age|EstimatedSalary|Purchased|      features|\n",
            "+--------+------+----+---------------+---------+--------------+\n",
            "|15624510|  Male|19.0|        19000.0|        0|[19.0,19000.0]|\n",
            "|15810944|  Male|35.0|        20000.0|        0|[35.0,20000.0]|\n",
            "|15668575|Female|26.0|        43000.0|        0|[26.0,43000.0]|\n",
            "|15603246|Female|27.0|        57000.0|        0|[27.0,57000.0]|\n",
            "|15804002|  Male|19.0|        76000.0|        0|[19.0,76000.0]|\n",
            "+--------+------+----+---------------+---------+--------------+\n",
            "only showing top 5 rows\n",
            "\n"
          ]
        }
      ]
    },
    {
      "cell_type": "code",
      "source": [
        "training_data, test_data = transformed_data.randomSplit([0.75, 0.25], seed = 0)"
      ],
      "metadata": {
        "id": "706IGIqR8u0d"
      },
      "execution_count": 29,
      "outputs": []
    },
    {
      "cell_type": "code",
      "source": [
        "training_data.count()"
      ],
      "metadata": {
        "colab": {
          "base_uri": "https://localhost:8080/"
        },
        "id": "1uV1saLs8u3B",
        "outputId": "968091fe-6330-4e6b-eb7e-c05287708e24"
      },
      "execution_count": 30,
      "outputs": [
        {
          "output_type": "execute_result",
          "data": {
            "text/plain": [
              "301"
            ]
          },
          "metadata": {},
          "execution_count": 30
        }
      ]
    },
    {
      "cell_type": "code",
      "source": [
        "from pyspark.ml.classification import LogisticRegression"
      ],
      "metadata": {
        "id": "3hUHzu4x_7Ia"
      },
      "execution_count": 31,
      "outputs": []
    },
    {
      "cell_type": "code",
      "source": [
        "lr = rfc = LogisticRegression(labelCol='Purchased', featuresCol='features')"
      ],
      "metadata": {
        "id": "e0EF83mj_7LI"
      },
      "execution_count": 32,
      "outputs": []
    },
    {
      "cell_type": "code",
      "source": [
        "lr_model  = lr.fit(training_data)"
      ],
      "metadata": {
        "id": "EOsBaRId_7N2"
      },
      "execution_count": 33,
      "outputs": []
    },
    {
      "cell_type": "code",
      "source": [
        "predictions = lr_model.transform(test_data)"
      ],
      "metadata": {
        "id": "nEbhP802Aseo"
      },
      "execution_count": 34,
      "outputs": []
    },
    {
      "cell_type": "code",
      "source": [
        "predictions.show(5)"
      ],
      "metadata": {
        "colab": {
          "base_uri": "https://localhost:8080/"
        },
        "id": "zcpYvj_zAsh2",
        "outputId": "32fda427-316d-4f0a-e3db-c0a5effa1a6b"
      },
      "execution_count": 35,
      "outputs": [
        {
          "output_type": "stream",
          "name": "stdout",
          "text": [
            "+--------+------+----+---------------+---------+---------------+--------------------+--------------------+----------+\n",
            "| User ID|Gender| Age|EstimatedSalary|Purchased|       features|       rawPrediction|         probability|prediction|\n",
            "+--------+------+----+---------------+---------+---------------+--------------------+--------------------+----------+\n",
            "|15566689|Female|35.0|        57000.0|        0| [35.0,57000.0]|[2.01726864503134...|[0.88259828570303...|       0.0|\n",
            "|15581198|  Male|31.0|        74000.0|        0| [31.0,74000.0]|[2.30539990032011...|[0.90932327007564...|       0.0|\n",
            "|15581282|  Male|37.0|        74000.0|        0| [37.0,74000.0]|[1.04521839252925...|[0.73985564272230...|       0.0|\n",
            "|15584320|Female|37.0|       146000.0|        1|[37.0,146000.0]|[-1.2926205482454...|[0.21540958613233...|       1.0|\n",
            "|15584545|Female|32.0|        86000.0|        0| [32.0,86000.0]|[1.70572982555918...|[0.84628160233199...|       0.0|\n",
            "+--------+------+----+---------------+---------+---------------+--------------------+--------------------+----------+\n",
            "only showing top 5 rows\n",
            "\n"
          ]
        }
      ]
    },
    {
      "cell_type": "code",
      "source": [
        "pred = predictions.select('prediction').toPandas()"
      ],
      "metadata": {
        "id": "a7n9V18OAskQ"
      },
      "execution_count": 36,
      "outputs": []
    },
    {
      "cell_type": "code",
      "source": [
        "actual = predictions.select('Purchased').toPandas()"
      ],
      "metadata": {
        "id": "viIc8k3PBG_n"
      },
      "execution_count": 37,
      "outputs": []
    },
    {
      "cell_type": "code",
      "source": [
        "from sklearn.metrics import accuracy_score"
      ],
      "metadata": {
        "id": "MRqxdrOJEmGe"
      },
      "execution_count": 40,
      "outputs": []
    },
    {
      "cell_type": "code",
      "source": [
        "accuracy_score(actual, pred)*100"
      ],
      "metadata": {
        "colab": {
          "base_uri": "https://localhost:8080/"
        },
        "id": "Sa1i5XdQBHCe",
        "outputId": "24b00c77-fca4-4ce1-d247-1b943f3c56ab"
      },
      "execution_count": 41,
      "outputs": [
        {
          "output_type": "execute_result",
          "data": {
            "text/plain": [
              "86.86868686868688"
            ]
          },
          "metadata": {},
          "execution_count": 41
        }
      ]
    },
    {
      "cell_type": "code",
      "source": [],
      "metadata": {
        "id": "vHWTL7b-BHFn"
      },
      "execution_count": null,
      "outputs": []
    }
  ]
}